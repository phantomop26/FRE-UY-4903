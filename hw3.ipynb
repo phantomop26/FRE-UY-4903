{
 "cells": [
  {
   "cell_type": "markdown",
   "metadata": {},
   "source": [
    "# **Beta Update Equation (Kalman Filter) for Pair Trading**\n",
    "\n",
    "## **State-Space Model**\n",
    "\n",
    "### **State Equation**\n",
    "$$\n",
    "\\beta_t = \\beta_{t-1} + w_t, \\quad w_t \\sim N(0, Q)\n",
    "$$\n",
    "- \\(\\beta_t\\) evolves with process noise \\(w_t\\).\n",
    "\n",
    "### **Observation Equation**\n",
    "$$\n",
    "y_t = \\beta_t x_t + v_t, \\quad v_t \\sim N(0, R)\n",
    "$$\n",
    "- \\(y_t\\) (SPY price), \\(x_t\\) (DJIA price), and \\(v_t\\) (measurement noise).\n",
    "\n",
    "## **Kalman Filter Update Steps**\n",
    "\n",
    "### **Prediction**\n",
    "$$\n",
    "\\hat{\\beta}_{t|t-1} = \\hat{\\beta}_{t-1}\n",
    "$$\n",
    "$$\n",
    "P_{t|t-1} = P_{t-1} + Q\n",
    "$$\n",
    "\n",
    "### **Update**\n",
    "$$\n",
    "K_t = P_{t|t-1} x_t^T (x_t P_{t|t-1} x_t^T + R)^{-1}\n",
    "$$\n",
    "$$\n",
    "\\hat{\\beta}_t = \\hat{\\beta}_{t|t-1} + K_t (y_t - x_t \\hat{\\beta}_{t|t-1})\n",
    "$$\n",
    "$$\n",
    "P_t = (1 - K_t x_t) P_{t|t-1}\n",
    "$$\n",
    "### **The final beta update equation**\n",
    "\n",
    "$$\n",
    "\\hat{\\beta}_{t \\mid t} = \\hat{\\beta}_{t \\mid t-1} + \\frac{S_{t, CA}}{S_{t, CA}^2 + \\gamma^{-1}} \\left( S_{t, AU} - \\hat{\\beta}_{t \\mid t-1} S_{t, CA} \\right)\n",
    "$$  \n"
   ]
  },
  {
   "cell_type": "code",
   "execution_count": null,
   "metadata": {},
   "outputs": [],
   "source": [
    "import numpy as np\n",
    "\n",
    "beta_prev = 0\n",
    "P_prev = 1\n",
    "Q = 0.01\n",
    "R = 1\n",
    "\n",
    "def kalman_beta_update(y_t, x_t, beta_prev, P_prev, Q, R):\n",
    "    beta_pred = beta_prev\n",
    "    P_pred = P_prev + Q\n",
    "    K_t = P_pred * x_t / (x_t * P_pred * x_t + R)\n",
    "    beta_updated = beta_pred + K_t * (y_t - x_t * beta_pred)\n",
    "    P_updated = (1 - K_t * x_t) * P_pred\n",
    "    return beta_updated, P_updated\n",
    "\n",
    "y_t = 145\n",
    "t_x = 113\n",
    "\n",
    "beta_new, P_new = kalman_beta_update(y_t, t_x, beta_prev, P_prev, Q, R)\n",
    "print(\"Updated Beta:\", beta_new)\n",
    "print(\"Updated Covariance:\", P_new)\n"
   ]
  },
  {
   "cell_type": "markdown",
   "metadata": {},
   "source": [
    "**Ques 2: Coding**"
   ]
  },
  {
   "cell_type": "code",
   "execution_count": null,
   "metadata": {},
   "outputs": [],
   "source": [
    "\n",
    "import pandas as pd\n",
    "import numpy as np\n",
    "import statsmodels.api as sm\n",
    "import matplotlib.pyplot as plt\n",
    "from pykalman import KalmanFilter\n",
    "\n",
    "spy_df = pd.read_csv(\"spy.csv\")\n",
    "djia_df = pd.read_csv(\"djia.csv\")\n",
    "\n",
    "spy_df[\"Date\"] = pd.to_datetime(spy_df[\"Date\"])\n",
    "djia_df[\"Date\"] = pd.to_datetime(djia_df[\"Date\"])\n",
    "\n",
    "merged_df = pd.merge(spy_df, djia_df, on=\"Date\", suffixes=(\"_SPY\", \"_DJIA\"))\n",
    "\n",
    "x = merged_df[\"PX_LAST_DJIA\"].values\n",
    "y = merged_df[\"PX_LAST_SPY\"].values\n"
   ]
  },
  {
   "cell_type": "code",
   "execution_count": null,
   "metadata": {},
   "outputs": [],
   "source": [
    "betas = []\n",
    "window = 60\n",
    "for i in range(window, len(x)):\n",
    "    X = sm.add_constant(x[i-window:i])\n",
    "    model = sm.OLS(y[i-window:i], X).fit()\n",
    "    betas.append(model.params[1])\n",
    "rolling_beta = np.concatenate([np.full(window, np.nan), betas])\n",
    "\n",
    "n = len(x)\n",
    "observation_matrices = np.array([[xi] for xi in x])"
   ]
  },
  {
   "cell_type": "code",
   "execution_count": null,
   "metadata": {},
   "outputs": [],
   "source": [
    "\n",
    "kf = KalmanFilter(\n",
    "    transition_matrices=[1],\n",
    "    observation_matrices=observation_matrices.reshape(-1, 1, 1),\n",
    "    initial_state_mean=0,\n",
    "    initial_state_covariance=1,\n",
    "    observation_covariance=1,\n",
    "    transition_covariance=0.01\n",
    ")\n",
    "state_means, _ = kf.filter(y)\n",
    "kalman_beta = state_means.flatten()\n",
    "\n",
    "merged_df[\"Rolling Beta\"] = rolling_beta\n",
    "merged_df[\"Kalman Beta\"] = kalman_beta\n",
    "merged_df[\"Rolling Spread\"] = y - merged_df[\"Rolling Beta\"] * x\n",
    "merged_df[\"Kalman Spread\"] = y - merged_df[\"Kalman Beta\"] * x"
   ]
  },
  {
   "cell_type": "code",
   "execution_count": null,
   "metadata": {},
   "outputs": [],
   "source": [
    "\n",
    "plt.figure(figsize=(12, 5))\n",
    "plt.plot(merged_df[\"Date\"], merged_df[\"Rolling Beta\"], label=\"Rolling Regression Beta\", color=\"blue\")\n",
    "plt.plot(merged_df[\"Date\"], merged_df[\"Kalman Beta\"], label=\"Kalman Filter Beta\", color=\"orange\")\n",
    "plt.xlabel(\"Date\")\n",
    "plt.ylabel(\"Hedge Ratio (Beta)\")\n",
    "plt.title(\"Rolling Regression vs. Kalman Filter Beta\")\n",
    "plt.legend()\n",
    "plt.show()\n"
   ]
  },
  {
   "cell_type": "markdown",
   "metadata": {},
   "source": [
    "**Conclusion**\n",
    "\n",
    "Key Insights:\n",
    "\n",
    "The Kalman filter provides a dynamic and real-time method for estimating the hedge ratio, making it more adaptable than the rolling regression approach, which tends to lag.\n",
    "\n",
    "\n",
    "While both techniques are valuable for pair trading, the Kalman filter is typically favored in high-frequency or real-time trading strategies due to its superior efficiency and responsiveness."
   ]
  }
 ],
 "metadata": {
  "kernelspec": {
   "display_name": "Python 3",
   "language": "python",
   "name": "python3"
  },
  "language_info": {
   "name": "python",
   "version": "3.12.5"
  }
 },
 "nbformat": 4,
 "nbformat_minor": 2
}
