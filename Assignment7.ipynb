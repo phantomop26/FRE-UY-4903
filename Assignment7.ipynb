{
  "cells": [
    {
      "cell_type": "markdown",
      "metadata": {
        "id": "s81zA8060IXv"
      },
      "source": [
        "# Assignment 7\n",
        "\n",
        "\n",
        "You will demonstrate your ability to create and train Neural Network models.\n",
        "\n",
        "You will *only* use `Dense` layers."
      ]
    },
    {
      "cell_type": "markdown",
      "metadata": {
        "id": "OiEOtlfL0IXw"
      },
      "source": [
        "# Objectives\n",
        "\n",
        "This is a \"doing\" rather than \"thinking\" assignment.\n",
        "\n",
        "Your goal is to checkpoint your skills to see if they are sufficient to create, train, and evaluate\n",
        "Neural Network models."
      ]
    },
    {
      "cell_type": "markdown",
      "metadata": {
        "id": "5zGDafBv0IXw"
      },
      "source": [
        "# Submission guidelines\n",
        "\n",
        "There are some specified tasks you must carry out, which involve playing around with a number of models.\n",
        "\n",
        "We want to be able to evaluate *your best model* on a holdout dataset.\n",
        "\n",
        "To faciliate this,\n",
        "in addition to providing your notebook, we will ask you to create the subroutine `MyModel`\n",
        "described below **and submit one additional file** to be described.\n",
        "\n",
        "You will choose your *best model* and using the code provided in the cell below, save the model to a file and **submit the file with your saved model** along with the notebook."
      ]
    },
    {
      "cell_type": "markdown",
      "metadata": {
        "id": "1NydurQq0IXw"
      },
      "source": [
        "The code cell below **should be the last cell in your notebook**.\n",
        "\n",
        "The last cell:\n",
        "- defines a routine to save a \"model\" object to a file\n",
        "- defines a routine to load a model object from a file\n",
        "- asks you to save the model for one of the tasks\n",
        "- asks you to run `MyModel`\n",
        "\n",
        "`MyModel` takes as arguments\n",
        "- a test set: `x_test`, `y_test`\n",
        "- name of a file containing a model object for a specified task\n",
        "\n",
        "`MyModel` will load the file (i.e., restore the model) and run predictions on the test set.\n",
        "\n",
        "You will need to complete the body of the `MyModel` definition."
      ]
    },
    {
      "cell_type": "markdown",
      "metadata": {
        "id": "WRBEuWAC0IXw"
      },
      "source": [
        "We will run `MyModel` in that cell in order to load your saved model and run it\n",
        "- We will not run any other cell in the notebook so if you need imports or anything else. put it there!  \n",
        "- We **will not** run cells that train your model: that would take too long)\n",
        "- If you need the holdout data to be transformed\n",
        "    - the transformations should be called from `MyModel`\n",
        "    - we will not run a cell to make the transformation happen"
      ]
    },
    {
      "cell_type": "markdown",
      "metadata": {
        "id": "uCOm_mKI0IXw"
      },
      "source": [
        "# HINT\n",
        "**This is literally a give-away:** https://www.tensorflow.org/tutorials/keras/classification"
      ]
    },
    {
      "cell_type": "markdown",
      "metadata": {
        "id": "01SET22O0IXw"
      },
      "source": [
        "**Load Data**"
      ]
    },
    {
      "cell_type": "code",
      "execution_count": 1,
      "metadata": {
        "colab": {
          "base_uri": "https://localhost:8080/"
        },
        "id": "JY2zx5CX0IXw",
        "outputId": "1e036f1e-0e31-43ff-cb85-f38e4d4e2d96"
      },
      "outputs": [
        {
          "output_type": "stream",
          "name": "stdout",
          "text": [
            "Downloading data from https://storage.googleapis.com/tensorflow/tf-keras-datasets/train-labels-idx1-ubyte.gz\n",
            "\u001b[1m29515/29515\u001b[0m \u001b[32m━━━━━━━━━━━━━━━━━━━━\u001b[0m\u001b[37m\u001b[0m \u001b[1m0s\u001b[0m 0us/step\n",
            "Downloading data from https://storage.googleapis.com/tensorflow/tf-keras-datasets/train-images-idx3-ubyte.gz\n",
            "\u001b[1m26421880/26421880\u001b[0m \u001b[32m━━━━━━━━━━━━━━━━━━━━\u001b[0m\u001b[37m\u001b[0m \u001b[1m0s\u001b[0m 0us/step\n",
            "Downloading data from https://storage.googleapis.com/tensorflow/tf-keras-datasets/t10k-labels-idx1-ubyte.gz\n",
            "\u001b[1m5148/5148\u001b[0m \u001b[32m━━━━━━━━━━━━━━━━━━━━\u001b[0m\u001b[37m\u001b[0m \u001b[1m0s\u001b[0m 0us/step\n",
            "Downloading data from https://storage.googleapis.com/tensorflow/tf-keras-datasets/t10k-images-idx3-ubyte.gz\n",
            "\u001b[1m4422102/4422102\u001b[0m \u001b[32m━━━━━━━━━━━━━━━━━━━━\u001b[0m\u001b[37m\u001b[0m \u001b[1m0s\u001b[0m 0us/step\n"
          ]
        }
      ],
      "source": [
        "from tensorflow.keras.datasets import fashion_mnist\n",
        "from tensorflow.keras.utils import to_categorical\n",
        "import numpy as np\n",
        "\n",
        "(x_train, y_train), (x_test, y_test) = fashion_mnist.load_data()\n",
        "x_train = x_train / 255.0\n",
        "x_test = x_test / 255.0\n",
        "x_train = x_train.reshape(-1, 28 * 28)\n",
        "x_test = x_test.reshape(-1, 28 * 28)\n",
        "y_train = to_categorical(y_train, 10)\n",
        "y_test = to_categorical(y_test, 10)\n"
      ]
    },
    {
      "cell_type": "markdown",
      "source": [
        "**Task1- One layer model**"
      ],
      "metadata": {
        "id": "_-hNeJhU0RoI"
      }
    },
    {
      "cell_type": "code",
      "source": [
        "from tensorflow.keras.models import Sequential\n",
        "from tensorflow.keras.layers import Dense\n",
        "\n",
        "model_task1 = Sequential([\n",
        "    Dense(10, activation='softmax', input_shape=(784,))\n",
        "])\n",
        "\n",
        "model_task1.compile(optimizer='adam', loss='categorical_crossentropy', metrics=['accuracy'])\n",
        "model_task1.fit(x_train, y_train, epochs=5, validation_split=0.1)\n"
      ],
      "metadata": {
        "colab": {
          "base_uri": "https://localhost:8080/"
        },
        "id": "dPXpbnhG0Xic",
        "outputId": "48d0711b-d725-4df7-a68f-33163c065713"
      },
      "execution_count": 2,
      "outputs": [
        {
          "output_type": "stream",
          "name": "stderr",
          "text": [
            "/usr/local/lib/python3.11/dist-packages/keras/src/layers/core/dense.py:87: UserWarning: Do not pass an `input_shape`/`input_dim` argument to a layer. When using Sequential models, prefer using an `Input(shape)` object as the first layer in the model instead.\n",
            "  super().__init__(activity_regularizer=activity_regularizer, **kwargs)\n"
          ]
        },
        {
          "output_type": "stream",
          "name": "stdout",
          "text": [
            "Epoch 1/5\n",
            "\u001b[1m1688/1688\u001b[0m \u001b[32m━━━━━━━━━━━━━━━━━━━━\u001b[0m\u001b[37m\u001b[0m \u001b[1m5s\u001b[0m 2ms/step - accuracy: 0.7355 - loss: 0.7822 - val_accuracy: 0.8292 - val_loss: 0.4851\n",
            "Epoch 2/5\n",
            "\u001b[1m1688/1688\u001b[0m \u001b[32m━━━━━━━━━━━━━━━━━━━━\u001b[0m\u001b[37m\u001b[0m \u001b[1m3s\u001b[0m 2ms/step - accuracy: 0.8381 - loss: 0.4721 - val_accuracy: 0.8452 - val_loss: 0.4469\n",
            "Epoch 3/5\n",
            "\u001b[1m1688/1688\u001b[0m \u001b[32m━━━━━━━━━━━━━━━━━━━━\u001b[0m\u001b[37m\u001b[0m \u001b[1m6s\u001b[0m 2ms/step - accuracy: 0.8490 - loss: 0.4454 - val_accuracy: 0.8497 - val_loss: 0.4337\n",
            "Epoch 4/5\n",
            "\u001b[1m1688/1688\u001b[0m \u001b[32m━━━━━━━━━━━━━━━━━━━━\u001b[0m\u001b[37m\u001b[0m \u001b[1m4s\u001b[0m 2ms/step - accuracy: 0.8539 - loss: 0.4265 - val_accuracy: 0.8517 - val_loss: 0.4293\n",
            "Epoch 5/5\n",
            "\u001b[1m1688/1688\u001b[0m \u001b[32m━━━━━━━━━━━━━━━━━━━━\u001b[0m\u001b[37m\u001b[0m \u001b[1m3s\u001b[0m 2ms/step - accuracy: 0.8551 - loss: 0.4206 - val_accuracy: 0.8522 - val_loss: 0.4214\n"
          ]
        },
        {
          "output_type": "execute_result",
          "data": {
            "text/plain": [
              "<keras.src.callbacks.history.History at 0x7fce45a67410>"
            ]
          },
          "metadata": {},
          "execution_count": 2
        }
      ]
    },
    {
      "cell_type": "markdown",
      "source": [
        "**Task2-  Experiment with Layers & Units**"
      ],
      "metadata": {
        "id": "7Y2awHPA0hD2"
      }
    },
    {
      "cell_type": "code",
      "source": [
        "def build_model(num_layers, units):\n",
        "    model = Sequential()\n",
        "    model.add(Dense(units, activation='relu', input_shape=(784,)))\n",
        "    for _ in range(num_layers - 1):\n",
        "        model.add(Dense(units, activation='relu'))\n",
        "    model.add(Dense(10, activation='softmax'))\n",
        "    model.compile(optimizer='adam', loss='categorical_crossentropy', metrics=['accuracy'])\n",
        "    return model\n"
      ],
      "metadata": {
        "id": "m-GbucxE0k6u"
      },
      "execution_count": 3,
      "outputs": []
    },
    {
      "cell_type": "code",
      "source": [
        "results = {}\n",
        "for layers in [2, 3, 4]:\n",
        "    for units in [10, 50, 200]:\n",
        "        model = build_model(layers, units)\n",
        "        model.fit(x_train, y_train, epochs=5, batch_size=128, verbose=0, validation_split=0.1)\n",
        "        _, acc = model.evaluate(x_test, y_test, verbose=0)\n",
        "        results[(layers, units)] = acc\n"
      ],
      "metadata": {
        "id": "ms1fjmD30omW"
      },
      "execution_count": 4,
      "outputs": []
    },
    {
      "cell_type": "markdown",
      "source": [
        "**Step4: Plot results**"
      ],
      "metadata": {
        "id": "IYBQFc5T0vTi"
      }
    },
    {
      "cell_type": "code",
      "source": [
        "import matplotlib.pyplot as plt\n",
        "\n",
        "for layers in [2, 3, 4]:\n",
        "    accs = [results[(layers, u)] for u in [10, 50, 200]]\n",
        "    plt.plot([10, 50, 200], accs, label=f'{layers} layers')\n",
        "\n",
        "plt.xlabel('Units per Layer')\n",
        "plt.ylabel('Test Accuracy')\n",
        "plt.title('Model Performance')\n",
        "plt.legend()\n",
        "plt.show()\n"
      ],
      "metadata": {
        "colab": {
          "base_uri": "https://localhost:8080/",
          "height": 472
        },
        "id": "Fa5XX6gb0rup",
        "outputId": "386e59f0-b5ce-47a3-c6a4-54c7b3a6df7b"
      },
      "execution_count": 5,
      "outputs": [
        {
          "output_type": "display_data",
          "data": {
            "text/plain": [
              "<Figure size 640x480 with 1 Axes>"
            ],
            "image/png": "[encoded data removed]"
          },
          "metadata": {}
        }
      ]
    },
    {
      "cell_type": "markdown",
      "source": [
        "**Step5: Choose Best Model **"
      ],
      "metadata": {
        "id": "E0fVY3zq0zWa"
      }
    },
    {
      "cell_type": "code",
      "source": [
        "my_model = build_model(3, 200)\n",
        "my_model.fit(x_train, y_train, epochs=5, validation_split=0.1)\n"
      ],
      "metadata": {
        "colab": {
          "base_uri": "https://localhost:8080/"
        },
        "id": "bhYrViUf089N",
        "outputId": "d9f4f520-c700-4533-af8e-c31cfc2336d2"
      },
      "execution_count": 6,
      "outputs": [
        {
          "output_type": "stream",
          "name": "stderr",
          "text": [
            "/usr/local/lib/python3.11/dist-packages/keras/src/layers/core/dense.py:87: UserWarning: Do not pass an `input_shape`/`input_dim` argument to a layer. When using Sequential models, prefer using an `Input(shape)` object as the first layer in the model instead.\n",
            "  super().__init__(activity_regularizer=activity_regularizer, **kwargs)\n"
          ]
        },
        {
          "output_type": "stream",
          "name": "stdout",
          "text": [
            "Epoch 1/5\n",
            "\u001b[1m1688/1688\u001b[0m \u001b[32m━━━━━━━━━━━━━━━━━━━━\u001b[0m\u001b[37m\u001b[0m \u001b[1m12s\u001b[0m 6ms/step - accuracy: 0.7802 - loss: 0.6118 - val_accuracy: 0.8500 - val_loss: 0.4280\n",
            "Epoch 2/5\n",
            "\u001b[1m1688/1688\u001b[0m \u001b[32m━━━━━━━━━━━━━━━━━━━━\u001b[0m\u001b[37m\u001b[0m \u001b[1m19s\u001b[0m 5ms/step - accuracy: 0.8610 - loss: 0.3794 - val_accuracy: 0.8678 - val_loss: 0.3567\n",
            "Epoch 3/5\n",
            "\u001b[1m1688/1688\u001b[0m \u001b[32m━━━━━━━━━━━━━━━━━━━━\u001b[0m\u001b[37m\u001b[0m \u001b[1m10s\u001b[0m 6ms/step - accuracy: 0.8747 - loss: 0.3412 - val_accuracy: 0.8773 - val_loss: 0.3409\n",
            "Epoch 4/5\n",
            "\u001b[1m1688/1688\u001b[0m \u001b[32m━━━━━━━━━━━━━━━━━━━━\u001b[0m\u001b[37m\u001b[0m \u001b[1m10s\u001b[0m 6ms/step - accuracy: 0.8825 - loss: 0.3120 - val_accuracy: 0.8768 - val_loss: 0.3580\n",
            "Epoch 5/5\n",
            "\u001b[1m1688/1688\u001b[0m \u001b[32m━━━━━━━━━━━━━━━━━━━━\u001b[0m\u001b[37m\u001b[0m \u001b[1m10s\u001b[0m 6ms/step - accuracy: 0.8893 - loss: 0.2946 - val_accuracy: 0.8825 - val_loss: 0.3243\n"
          ]
        },
        {
          "output_type": "execute_result",
          "data": {
            "text/plain": [
              "<keras.src.callbacks.history.History at 0x7fce17792b90>"
            ]
          },
          "metadata": {},
          "execution_count": 6
        }
      ]
    },
    {
      "cell_type": "markdown",
      "metadata": {
        "id": "Bv7cCeZe0IXx"
      },
      "source": [
        "## Additional submission\n",
        "\n",
        "In addition to your notebook, please also submit the file whose name is stored in `model_path`.\n",
        "\n",
        "**DO NOT** rename the file!\n"
      ]
    },
    {
      "cell_type": "markdown",
      "metadata": {
        "id": "U1CUnup00IXx"
      },
      "source": [
        "Here is the cell **that must appear as the last cell in your notebook**"
      ]
    },
    {
      "cell_type": "code",
      "execution_count": 9,
      "metadata": {
        "colab": {
          "base_uri": "https://localhost:8080/"
        },
        "id": "j5Jd3aFX0IXx",
        "outputId": "c07733b0-9734-4b92-f6d1-566dac468a9a"
      },
      "outputs": [
        {
          "output_type": "stream",
          "name": "stdout",
          "text": [
            "Epoch 1/5\n",
            "\u001b[1m1688/1688\u001b[0m \u001b[32m━━━━━━━━━━━━━━━━━━━━\u001b[0m\u001b[37m\u001b[0m \u001b[1m12s\u001b[0m 6ms/step - accuracy: 0.7750 - loss: 0.6197 - val_accuracy: 0.8545 - val_loss: 0.3949\n",
            "Epoch 2/5\n",
            "\u001b[1m1688/1688\u001b[0m \u001b[32m━━━━━━━━━━━━━━━━━━━━\u001b[0m\u001b[37m\u001b[0m \u001b[1m10s\u001b[0m 6ms/step - accuracy: 0.8605 - loss: 0.3736 - val_accuracy: 0.8607 - val_loss: 0.3888\n",
            "Epoch 3/5\n",
            "\u001b[1m1688/1688\u001b[0m \u001b[32m━━━━━━━━━━━━━━━━━━━━\u001b[0m\u001b[37m\u001b[0m \u001b[1m10s\u001b[0m 6ms/step - accuracy: 0.8774 - loss: 0.3325 - val_accuracy: 0.8615 - val_loss: 0.3861\n",
            "Epoch 4/5\n",
            "\u001b[1m1688/1688\u001b[0m \u001b[32m━━━━━━━━━━━━━━━━━━━━\u001b[0m\u001b[37m\u001b[0m \u001b[1m9s\u001b[0m 6ms/step - accuracy: 0.8856 - loss: 0.3068 - val_accuracy: 0.8752 - val_loss: 0.3484\n",
            "Epoch 5/5\n",
            "\u001b[1m1688/1688\u001b[0m \u001b[32m━━━━━━━━━━━━━━━━━━━━\u001b[0m\u001b[37m\u001b[0m \u001b[1m10s\u001b[0m 5ms/step - accuracy: 0.8906 - loss: 0.2918 - val_accuracy: 0.8783 - val_loss: 0.3327\n",
            "Directory ./assignment7_best_model already exists, files will be over-written.\n",
            "Model saved in directory ./assignment7_best_model; create an archive of this directory and submit with your assignment.\n",
            "\u001b[1m313/313\u001b[0m \u001b[32m━━━━━━━━━━━━━━━━━━━━\u001b[0m\u001b[37m\u001b[0m \u001b[1m1s\u001b[0m 3ms/step\n"
          ]
        }
      ],
      "source": [
        "import os\n",
        "from tensorflow.keras.models import load_model\n",
        "import tensorflow as tf\n",
        "\n",
        "\n",
        "modelName = \"assignment7_best_model\"\n",
        "model_path = os.path.join(\".\", modelName)\n",
        "\n",
        "def saveModel(model, model_path):\n",
        "    try:\n",
        "        os.makedirs(model_path)\n",
        "    except OSError:\n",
        "        print(\"Directory {dir:s} already exists, files will be over-written.\".format(dir=model_path))\n",
        "\n",
        "    # Save JSON config to disk\n",
        "    json_config = model.to_json()\n",
        "    with open(os.path.join(model_path, 'config.json'), 'w') as json_file:\n",
        "        json_file.write(json_config)\n",
        "    # Save weights to disk\n",
        "    model.save_weights(os.path.join(model_path, 'model.weights.h5'))\n",
        "\n",
        "    print(\"Model saved in directory {dir:s}; create an archive of this directory and submit with your assignment.\".format(dir=model_path))\n",
        "\n",
        "def loadModel(model_path):\n",
        "    # Reload the model from the 2 files we saved\n",
        "    with open(os.path.join(model_path, 'config.json')) as json_file:\n",
        "        json_config = json_file.read()\n",
        "    model = tf.keras.models.model_from_json(json_config)\n",
        "    model.load_weights(os.path.join(model_path, 'model.weights.h5'))\n",
        "\n",
        "    return model\n",
        "\n",
        "def MyModel(x_test, y_test, model_path):\n",
        "    # YOU MAY NOT change model after this statement !\n",
        "\n",
        "    # It should run model to create an array of predictions; we initialize it to the empty array for convenience\n",
        "    model = loadModel(model_path)\n",
        "    x_test = x_test / 255.0\n",
        "    x_test = x_test.reshape(-1, 28 * 28)\n",
        "    predictions = model.predict(x_test)\n",
        "\n",
        "\n",
        "    return predictions\n",
        "\n",
        "# Assign to variable my_model the model that solves task 3.2\n",
        "my_model = build_model(3, 200)# CHANGE None to your model !\n",
        "my_model.fit(x_train, y_train, epochs=5, validation_split=0.1)\n",
        "\n",
        "saveModel(my_model, model_path)\n",
        "predicts = MyModel(x_test, y_test, model_path)\n"
      ]
    },
    {
      "cell_type": "markdown",
      "metadata": {
        "id": "GWGDGbr10IXx"
      },
      "source": [
        "# The problem\n",
        "\n",
        "You will create several Neural Networks to solve a classification problem that is a slight variant\n",
        "of the MNIST digit classification problem.\n",
        "\n",
        "The assignment really involves little more than playing around with that example.\n",
        "\n",
        "The objective is to ensure that you are able to write and run simple programs using Keras."
      ]
    },
    {
      "cell_type": "markdown",
      "metadata": {
        "id": "pHLpHSdn0IXx"
      },
      "source": [
        "# The Data\n",
        "\n",
        "The dataset is called Fashion MNIST.\n",
        "\n",
        "Rather than classifying images into one of ten digits,\n",
        "you will classify images of clothing items into one of ten classes.\n",
        "\n",
        "Here's the code to get the data."
      ]
    },
    {
      "cell_type": "code",
      "execution_count": 10,
      "metadata": {
        "id": "zVeun9840IXx"
      },
      "outputs": [],
      "source": [
        "from tensorflow.kferas.datasets import mnist, fashion_mnist, cifar10\n",
        "\n",
        "(x_train, y_train), (x_test, y_test) = fashion_mnist.load_data()\n"
      ]
    },
    {
      "cell_type": "markdown",
      "metadata": {
        "id": "W_rcv36E0IXx"
      },
      "source": [
        "# Tasks\n",
        "\n",
        "For each task\n",
        "- create the Neural Network as specified\n",
        "- train it on the training data set\n",
        "- evaluate it on the test data set\n"
      ]
    },
    {
      "cell_type": "markdown",
      "metadata": {
        "id": "pnYR2PXL0IXx"
      },
      "source": [
        "## Task 1\n",
        "\n",
        "Create a one layer Neural Network to perform classification (e.g., logistic regression) as we demonstrated in class.\n",
        "\n",
        "No layers other than the one for classification."
      ]
    },
    {
      "cell_type": "markdown",
      "metadata": {
        "id": "Qlwy_1Ob0IXx"
      },
      "source": [
        "# Task 2 (9 parts)\n",
        "\n",
        "You will evaluate out of sample accuracy for several models and create a plot\n",
        "- For number of layers in 2, 3,4 (more if you like)\n",
        "- For number of units per layer in 10, 50, 200 (more if you like)\n",
        "    - Using *same* number of units for each layer\n",
        "\n",
        "The combination of choices for number of layers and number of units per layer gives you (at least) 9 models.\n",
        "\n",
        "- Evaluate the out of sample accuracy for each of the 9 models.\n",
        "- Present the results in a table (created by code)\n",
        "- Create a *single plot*\n",
        "    - Horizontal axis: number of units per layer\n",
        "    - Vertical axis: out of sample accuracy\n",
        "    - 3 traces in the plot, one for each choice of number of layers\n",
        "        - e.g., one line in the plot for L=2, another line in the plot for L=3, and another line for L=4\n"
      ]
    },
    {
      "cell_type": "markdown",
      "metadata": {
        "id": "WIbWKttP0IXx"
      },
      "source": [
        "# Extra credit\n",
        "- Do a more extensive experiment\n",
        "    - More layers\n",
        "    - More choices for number of units per layer\n",
        "    - Vary number of units per layer\n",
        "        - Increase number of units with increasing layer number\n",
        "        - Decrease number of units with increasing layer number\n",
        "        - Find some other pattern for varying the number of units per layer\n",
        "- Comment on when your models are either overfitting or underfitting\n",
        "    - Use numeric justification\n",
        "    "
      ]
    }
  ],
  "metadata": {
    "kernelspec": {
      "display_name": "Python 3",
      "language": "python",
      "name": "python3"
    },
    "language_info": {
      "codemirror_mode": {
        "name": "ipython",
        "version": 3
      },
      "file_extension": ".py",
      "mimetype": "text/x-python",
      "name": "python",
      "nbconvert_exporter": "python",
      "pygments_lexer": "ipython3",
      "version": "3.8.3"
    },
    "toc": {
      "base_numbering": 1,
      "nav_menu": {},
      "number_sections": true,
      "sideBar": true,
      "skip_h1_title": false,
      "title_cell": "Table of Contents",
      "title_sidebar": "Contents",
      "toc_cell": false,
      "toc_position": {},
      "toc_section_display": true,
      "toc_window_display": false
    },
    "colab": {
      "provenance": []
    }
  },
  "nbformat": 4,
  "nbformat_minor": 0
}